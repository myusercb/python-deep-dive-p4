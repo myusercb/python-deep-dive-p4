{
 "cells": [
  {
   "cell_type": "markdown",
   "id": "27e9ced6-efdd-4d28-83ad-79e527c10ba1",
   "metadata": {},
   "source": [
    "# Project 1 solution"
   ]
  },
  {
   "cell_type": "markdown",
   "id": "1c641627-b55a-48e7-b377-c67908b812f5",
   "metadata": {},
   "source": [
    "We need to design an dimplement a class that will be used to represent bank accounts.\n",
    "\n",
    "We want the following functionality and characteristics:\n",
    "- accounts are uniquely identified by an **account number** (assume it will just be passed in the initializer)\n",
    "- account holders have a **first** and **last** name\n",
    "- accounts have an associated **preferred time zone offset** (e.g. -7 for MST)\n",
    "- **balances** need to be zero or higher, and should not be directly settable.\n",
    "- but, **deposits** and **withdrawals** can be made (given sufficient funds)\n",
    "    - if a withdrawal is attempted that would result in nagative funds, the transaction should be declined.\n",
    "- a **monthly interest rate** exists and is applicable to all accounts **uniformly**. There should be a method that can be called to calculate the interest on the current balance using the current interest rate, and **add it** to the balance.\n",
    "- each deposit and withdrawal must generate a **confirmation number** composed of:\n",
    "    - the transaction type: `D` for deposit, and `W` for withdrawal, `I` for interest deposit, and `X` for declined (in which case the balance remains unaffected)\n",
    "    - the account number\n",
    "    - the time the transaction was made, using UTC\n",
    "    - an incrementing number (that increments across all accounts and transactions)\n",
    "    - for (extreme!) simplicity assume that the transaction id starts at zero (or whatever number you choose) whenever the program starts\n",
    "    - the confirmation number should be returned from any of the transaction methods (deposit, withdraw, etc)\n",
    "- create a **method** that, given a confirmation number, returns:\n",
    "    - the account number, transaction code (D, W, etc), datetime (UTC format), date time (in whatever timezone is specified in the argument, but more human readable), the transaction ID\n",
    "    - make it so it is a nicely structured object (so can use dotted notation to access these three attributes)\n",
    "    - I purposefully made it so the desired timezone is passed as an argument. Can you figure out why? (hint: does this method require any information from any instance?)"
   ]
  },
  {
   "cell_type": "markdown",
   "id": "5f2d8177-6a7c-4826-a54a-fbff37c7588b",
   "metadata": {},
   "source": [
    "For example, we may have an account with:\n",
    "- account number `140568` \n",
    "- preferred time zone offset of -7 (MST) \n",
    "- an existing balance of `100.00`\n",
    "\n",
    "Suppose the last transaction ID in the system was `123`, and a deposit is made for `50.00` on `2019-03-15T14:59:00` (UTC) on that account (or `2019-03-15T07:59:00` in account's preferred time zone offset)\n",
    "\n",
    "The new balance should reflect `150.00` and the confirmation number returned should look something like this:\n",
    "\n",
    "```D-140568-20190315145900-124```\n",
    "\n",
    "We also want a method that given the confirmation number returns an object with attributes:\n",
    "- `result.account_number` --> `140568`\n",
    "- `result.transaction_code` --> `D`\n",
    "- `result.transaction_id` --> `124`\n",
    "- `result.time` --> `2019-03-15 07:59:00 (MST)`\n",
    "- `result.time_utc` --> `2019-03-15T14:59:00`"
   ]
  },
  {
   "cell_type": "markdown",
   "id": "4d948ba9-b13d-4270-8924-7eda693132be",
   "metadata": {},
   "source": [
    "Furthermore, if current interest rate is `0.5%`, and the account's balance is `1000.00`, then the result of calling the `deposit_interest` (or whatever name you choose) method, should result in a new transaction and a new balance of `1050.00`. Calling this method should also return a confirmation number.\n",
    "\n",
    "For simplicty, just use floats, but be aware that for these types of situations you'll probably want to use `Decimal` objects instead of floats."
   ]
  },
  {
   "cell_type": "markdown",
   "id": "4c47fba3-7617-4b20-96e3-558d863cc905",
   "metadata": {},
   "source": [
    "There are going to be many ways to design something like this, especially since I have not nailed down all the specific requirements, so you'll have to fill the gaps yourself and decide what other things you may want to implement (like is the account number going to be a mutable property, or \"read-only\" and so on).\n",
    "\n",
    "See how many different ideas you can use from what we covered in the last section. "
   ]
  },
  {
   "cell_type": "markdown",
   "id": "67ad3e44-d266-47ce-adbc-3519e7a754f8",
   "metadata": {},
   "source": [
    "My approach will end up creating two classes: a `TimeZone` class used to store the time zone name and offset definition (in hours and minutes), and a main class called `Account` that will have the following \"public\" interface:\n",
    "- initializer with account number, first name, last name, optional preferred time zone, starting balance (defaults to 0)\n",
    "- a first name property (read/write)\n",
    "- a last name property (read/write)\n",
    "- a full name property (computed, read-only)\n",
    "- a balance property (read-only)\n",
    "- an interest rate property (class level property)\n",
    "- deposit, withdraw, pay_interest methods\n",
    "- parse confirmation code\n",
    "\n",
    "Class will have additional state and methods, but those will be used for implementation."
   ]
  },
  {
   "cell_type": "markdown",
   "id": "8528964c-e5bc-494c-8700-50caf553f76d",
   "metadata": {},
   "source": [
    "You should also remember to test your code! In the solutions I will introduce you to Python's `unittest` package. Even if you skip this project, at least review that video and/or notebook if you are unfamiliar with `unittest`."
   ]
  },
  {
   "cell_type": "code",
   "execution_count": 71,
   "id": "8f53731d-3376-4fcd-b814-5fd16d24dee1",
   "metadata": {},
   "outputs": [],
   "source": [
    "import numbers\n",
    "from datetime import timezone, timedelta, datetime\n",
    "\n",
    "\n",
    "class TimeZone:\n",
    "    def __init__(self, tz_name, offset_hours, offset_minutes):\n",
    "        # tz_name input validation\n",
    "        if not isinstance(tz_name, str):\n",
    "            raise ValueError('Timezone \"name\" must be string.')\n",
    "\n",
    "        if tz_name is None or len(tz_name.strip()) == 0:\n",
    "            raise ValueError('TimeZone \"name\" cannot be empty.')\n",
    "\n",
    "        self._tz_name = tz_name.strip()\n",
    "\n",
    "        # offset_hours validation\n",
    "        if not isinstance(offset_hours, int):\n",
    "            raise ValueError('Hours offset must be an integer.')\n",
    "\n",
    "        # offset_minutes validation\n",
    "        if not isinstance(offset_minutes, int):\n",
    "            raise ValueError('Minutes offset must be an integer.')\n",
    "\n",
    "        if offset_minutes < -59 or offset_minutes > 59:\n",
    "            raise ValueError(\n",
    "                'Minutes offset can be between -59 and 59 (inclusive).'\n",
    "            )\n",
    "\n",
    "        offset = timedelta(hours=offset_hours, minutes=offset_minutes)\n",
    "\n",
    "        # offset validation (offset total value must be between \n",
    "        # values -12:00 and 14:00)\n",
    "        if offset < timedelta(hours=-12, minutes=0) \\\n",
    "                or offset > timedelta(hours=14, minutes=0):\n",
    "            raise ValueError('Offset must be between -12:00 and +14:00.')\n",
    "\n",
    "        self._offset_hours = offset_hours\n",
    "        self._offset_minutes = offset_minutes\n",
    "        self._offset = offset\n",
    "\n",
    "    @property\n",
    "    def offset(self):\n",
    "        return self.offset\n",
    "\n",
    "    @property\n",
    "    def tz_name(self):\n",
    "        return self._tz_name\n",
    "\n",
    "    @property\n",
    "    def offset_hours(self):\n",
    "        return self._offset_hours\n",
    "\n",
    "    def __repr__(self):\n",
    "        return (f\"TimeZone(name='{self._tz_name}', \"\n",
    "                f\"offset_hours={self._offset_hours}, \"\n",
    "                f\"offset_minutes={self._offset_minutes})\")\n",
    "\n",
    "    def __eq__(self, other):\n",
    "        return (isinstance(other, TimeZone) and\n",
    "                self.tz_name == other.tz_name and \n",
    "                self._offset_hours == other._offset_hours and\n",
    "                self._offset_minutes == other._offset_minutes)\n"
   ]
  },
  {
   "cell_type": "code",
   "execution_count": 92,
   "id": "2c220760-9725-411f-ac41-c652788c5fb1",
   "metadata": {},
   "outputs": [],
   "source": [
    "import itertools\n",
    "\n",
    "\n",
    "class Account:\n",
    "    transaction_counter = itertools.count(100)\n",
    "    _interest_rate = 0.5 # percent\n",
    "    \n",
    "    _transaction_codes = {\n",
    "        'deposit': 'D',\n",
    "        'withdraw': 'W',\n",
    "        'interest': 'I',\n",
    "        'rejected': 'R'\n",
    "    }\n",
    "\n",
    "    def __init__(self, account_number, first_name, last_name, \n",
    "                 timezone=None, initial_balance=0):\n",
    "        self._account_number = account_number\n",
    "        self.first_name = first_name\n",
    "        self.last_name = last_name\n",
    "\n",
    "        if timezone is None:\n",
    "            timezone = TimeZone('UTC', 0, 0)\n",
    "        self.timezone = timezone\n",
    "        \n",
    "        self._balance = float(initial_balance)\n",
    "\n",
    "    @property\n",
    "    def account_number(self):\n",
    "        return self.account_number\n",
    "\n",
    "    @property\n",
    "    def first_name(self):\n",
    "        return self._first_name\n",
    "\n",
    "    @first_name.setter\n",
    "    def first_name(self, value):\n",
    "        self.validate_and_set_name('_first_name', value, 'First Name')\n",
    "\n",
    "    @property\n",
    "    def last_name(self):\n",
    "        return self._last_name\n",
    "\n",
    "    @last_name.setter\n",
    "    def last_name(self, value):\n",
    "        self.validate_and_set_name('_last_name', value, 'Last Name')\n",
    "\n",
    "    @property\n",
    "    def timezone(self):\n",
    "        return self._timezone\n",
    "\n",
    "    @timezone.setter\n",
    "    def timezone(self, value):\n",
    "        if not isinstance(value, TimeZone):\n",
    "            raise ValueError(f'{value} needs to be TimeZone object.')\n",
    "        self._timezone = value\n",
    "        \n",
    "    @property\n",
    "    def balance(self):\n",
    "        return self._balance\n",
    "    \n",
    "    def generate_confirmation_code(self, transaction_code):\n",
    "        dt_str = datetime.utcnow().strftime(format='%Y%m%m%H%M%S')\n",
    "        return f'{transaction_code}-{self._account_number}-{dt_str}-{next(Account.transaction_counter)}'\n",
    "\n",
    "    def validate_and_set_name(self, attr_name, value, field_title):\n",
    "        if len(str(value).strip()) == 0 or value is None:\n",
    "            raise ValueError(f'{field_title} cannot be empty.')\n",
    "        setattr(self, attr_name, value)\n",
    "        \n",
    "    @classmethod\n",
    "    def get_interest_rate(cls):\n",
    "        return cls._interest_rate\n",
    "\n",
    "    @classmethod\n",
    "    def set_interest_rate(cls, value):\n",
    "        if not isinstance(value, numbers.Real):\n",
    "            raise ValueError('Interest rate has to be a real number.')\n",
    "        if value < 0:\n",
    "            raise ValueError('Interest rate has to be bigger than 0')\n",
    "        cls._interest_rate = value\n",
    "        \n",
    "    def make_transaction(self):\n",
    "        return self.generate_confirmation_code('dummy')\n",
    "\n",
    "\n"
   ]
  },
  {
   "cell_type": "code",
   "execution_count": 93,
   "id": "8688b70b-c8a3-4787-b09e-5c9edf50d30f",
   "metadata": {},
   "outputs": [],
   "source": [
    "try:\n",
    "    a = Account(\n",
    "        account_number='12345', \n",
    "        first_name='Alex', \n",
    "        last_name='webber', \n",
    "        timezone=TimeZone('UTC', 0, 0), \n",
    "        initial_balance=1)\n",
    "except ValueError as ex:\n",
    "    print(ex)"
   ]
  },
  {
   "cell_type": "code",
   "execution_count": 94,
   "id": "05ede161-cfd6-4552-9f68-96c2759ee9d4",
   "metadata": {},
   "outputs": [
    {
     "data": {
      "text/plain": [
       "'dummy-12345-20220505155733-100'"
      ]
     },
     "execution_count": 94,
     "metadata": {},
     "output_type": "execute_result"
    }
   ],
   "source": [
    "a.make_transaction()"
   ]
  },
  {
   "cell_type": "code",
   "execution_count": null,
   "id": "23405b48-2a7c-4d87-bd54-25c277e253f8",
   "metadata": {},
   "outputs": [],
   "source": []
  },
  {
   "cell_type": "code",
   "execution_count": null,
   "id": "734db22e-5c57-4474-9412-aa67d87b1e73",
   "metadata": {},
   "outputs": [],
   "source": []
  },
  {
   "cell_type": "code",
   "execution_count": null,
   "id": "80561244-3aa1-4bc1-9d41-c541190dc940",
   "metadata": {},
   "outputs": [],
   "source": []
  },
  {
   "cell_type": "code",
   "execution_count": null,
   "id": "39a8d34a-fd3c-4330-be4e-6894e2709ebc",
   "metadata": {},
   "outputs": [],
   "source": []
  },
  {
   "cell_type": "code",
   "execution_count": null,
   "id": "fee2811f-7099-46c6-b4e5-8eed2d776da4",
   "metadata": {},
   "outputs": [],
   "source": []
  }
 ],
 "metadata": {
  "kernelspec": {
   "display_name": "Python 3 (ipykernel)",
   "language": "python",
   "name": "python3"
  },
  "language_info": {
   "codemirror_mode": {
    "name": "ipython",
    "version": 3
   },
   "file_extension": ".py",
   "mimetype": "text/x-python",
   "name": "python",
   "nbconvert_exporter": "python",
   "pygments_lexer": "ipython3",
   "version": "3.9.7"
  }
 },
 "nbformat": 4,
 "nbformat_minor": 5
}
