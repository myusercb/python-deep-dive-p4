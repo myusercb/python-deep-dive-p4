{
 "cells": [
  {
   "cell_type": "markdown",
   "id": "5323a91a-47b6-4bb9-8990-5b71018ef0c1",
   "metadata": {
    "tags": []
   },
   "source": [
    "# Polymorphism and Special Methods"
   ]
  },
  {
   "cell_type": "code",
   "execution_count": null,
   "id": "a2e14847-aebc-4e84-aee4-8a9f5aa120a2",
   "metadata": {},
   "outputs": [],
   "source": []
  },
  {
   "cell_type": "code",
   "execution_count": null,
   "id": "4b8a9d09-b177-4336-9adb-e8c18e503c4e",
   "metadata": {},
   "outputs": [],
   "source": []
  },
  {
   "cell_type": "code",
   "execution_count": null,
   "id": "1fe6f5f4-c27b-471e-a25f-60b9a1061c07",
   "metadata": {},
   "outputs": [],
   "source": []
  },
  {
   "cell_type": "code",
   "execution_count": null,
   "id": "980e4ace-63c8-4750-bf98-aa0c644f7a7e",
   "metadata": {},
   "outputs": [],
   "source": []
  },
  {
   "cell_type": "code",
   "execution_count": null,
   "id": "9db89a47-f3a3-492d-9314-bedb1070a982",
   "metadata": {},
   "outputs": [],
   "source": []
  },
  {
   "cell_type": "code",
   "execution_count": null,
   "id": "9e40bca5-58c2-43e9-be5a-8541ccce68b7",
   "metadata": {},
   "outputs": [],
   "source": []
  },
  {
   "cell_type": "markdown",
   "id": "ce0706e4-2c35-4a2f-a862-62f9347b2d07",
   "metadata": {
    "tags": []
   },
   "source": [
    "# Sandbox"
   ]
  },
  {
   "cell_type": "markdown",
   "id": "6f4288b5-7931-4a3b-ba87-f7f1c9cce18f",
   "metadata": {
    "tags": []
   },
   "source": [
    "### Challenge n\n",
    "\n",
    "> Main goal.\n",
    "\n",
    "- Prequisites:\n",
    "\n",
    "```python\n",
    "my_prequisites = 1\n",
    "```\n",
    "<br>\n",
    "- Challenge description: <br>\n",
    "> task1 <br>\n",
    "> task2 <br>\n",
    "\n",
    "- Out:\n",
    "```python\n",
    ">>> my_code\n",
    "output\n",
    "```"
   ]
  },
  {
   "cell_type": "markdown",
   "id": "c008cf17-6fce-4110-9d34-78fd09334420",
   "metadata": {},
   "source": [
    "<div class=\"\">\n",
    "    <details>\n",
    "        <summary>\n",
    "             <i style=\"font-size:16px;\"> Template Question</i>\n",
    "        </summary>\n",
    "        <hr>\n",
    "        Template main point\n",
    "            <li> &emsp;\n",
    "                (1) template sub-point one <code>my_code</code>\n",
    "        </li>\n",
    "            <li> &emsp;\n",
    "                (2) template sub-point two \n",
    "        </li>\n",
    "         <img src=\"attachment:id_pic.png\" title=\"image\"/>\n",
    "        <br><br>\n",
    "    </details>\n",
    "</div><code></code>"
   ]
  }
 ],
 "metadata": {
  "kernelspec": {
   "display_name": "Python 3 (ipykernel)",
   "language": "python",
   "name": "python3"
  },
  "language_info": {
   "codemirror_mode": {
    "name": "ipython",
    "version": 3
   },
   "file_extension": ".py",
   "mimetype": "text/x-python",
   "name": "python",
   "nbconvert_exporter": "python",
   "pygments_lexer": "ipython3",
   "version": "3.9.5"
  }
 },
 "nbformat": 4,
 "nbformat_minor": 5
}
